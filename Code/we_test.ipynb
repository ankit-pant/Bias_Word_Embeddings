{
 "cells": [
  {
   "cell_type": "markdown",
   "metadata": {},
   "source": [
    "## Exploring Gensim and Word2Vec"
   ]
  },
  {
   "cell_type": "code",
   "execution_count": 1,
   "metadata": {
    "colab": {
     "base_uri": "https://localhost:8080/",
     "height": 129
    },
    "colab_type": "code",
    "id": "geXd8wGZbbkp",
    "outputId": "c11992db-1015-4638-aaae-530b20ac1133"
   },
   "outputs": [
    {
     "name": "stdout",
     "output_type": "stream",
     "text": [
      "Go to this URL in a browser: https://accounts.google.com/o/oauth2/auth?client_id=947318989803-6bn6qk8qdgf4n4g3pfee6491hc0brc4i.apps.googleusercontent.com&redirect_uri=urn%3Aietf%3Awg%3Aoauth%3A2.0%3Aoob&scope=email%20https%3A%2F%2Fwww.googleapis.com%2Fauth%2Fdocs.test%20https%3A%2F%2Fwww.googleapis.com%2Fauth%2Fdrive%20https%3A%2F%2Fwww.googleapis.com%2Fauth%2Fdrive.photos.readonly%20https%3A%2F%2Fwww.googleapis.com%2Fauth%2Fpeopleapi.readonly&response_type=code\n",
      "\n",
      "Enter your authorization code:\n",
      "··········\n",
      "Mounted at /content/drive\n"
     ]
    }
   ],
   "source": [
    "import gensim\n",
    "from google.colab import drive\n",
    "drive.mount('/content/drive',force_remount=True)"
   ]
  },
  {
   "cell_type": "code",
   "execution_count": 2,
   "metadata": {
    "colab": {
     "base_uri": "https://localhost:8080/",
     "height": 74
    },
    "colab_type": "code",
    "id": "5-t3wu89bfsJ",
    "outputId": "0aafedc3-1905-4a19-e91b-5df155be1360"
   },
   "outputs": [
    {
     "name": "stderr",
     "output_type": "stream",
     "text": [
      "/usr/local/lib/python3.6/dist-packages/smart_open/smart_open_lib.py:398: UserWarning: This function is deprecated, use smart_open.open instead. See the migration notes for details: https://github.com/RaRe-Technologies/smart_open/blob/master/README.rst#migrating-to-the-new-open-function\n",
      "  'See the migration notes for details: %s' % _MIGRATION_NOTES_URL\n"
     ]
    }
   ],
   "source": [
    "model = gensim.models.KeyedVectors.load_word2vec_format('/content/drive/My Drive/datasets/GoogleNews-vectors-negative300.bin', binary=True, unicode_errors='ignore')"
   ]
  },
  {
   "cell_type": "code",
   "execution_count": 3,
   "metadata": {
    "colab": {
     "base_uri": "https://localhost:8080/",
     "height": 92
    },
    "colab_type": "code",
    "id": "qStwEcCCb84O",
    "outputId": "671246b6-e426-4768-c369-74d4a9d4ef87"
   },
   "outputs": [
    {
     "name": "stderr",
     "output_type": "stream",
     "text": [
      "/usr/local/lib/python3.6/dist-packages/gensim/matutils.py:737: FutureWarning: Conversion of the second argument of issubdtype from `int` to `np.signedinteger` is deprecated. In future, it will be treated as `np.int64 == np.dtype(int).type`.\n",
      "  if np.issubdtype(vec.dtype, np.int):\n"
     ]
    },
    {
     "data": {
      "text/plain": [
       "0.8738309890031815"
      ]
     },
     "execution_count": 3,
     "metadata": {
      "tags": []
     },
     "output_type": "execute_result"
    }
   ],
   "source": [
    "model.distance('programmer','man')"
   ]
  },
  {
   "cell_type": "code",
   "execution_count": 4,
   "metadata": {
    "colab": {
     "base_uri": "https://localhost:8080/",
     "height": 92
    },
    "colab_type": "code",
    "id": "7pr4CX5LcX1g",
    "outputId": "60588f8b-545c-4b34-986a-b72900c76492"
   },
   "outputs": [
    {
     "name": "stderr",
     "output_type": "stream",
     "text": [
      "/usr/local/lib/python3.6/dist-packages/gensim/matutils.py:737: FutureWarning: Conversion of the second argument of issubdtype from `int` to `np.signedinteger` is deprecated. In future, it will be treated as `np.int64 == np.dtype(int).type`.\n",
      "  if np.issubdtype(vec.dtype, np.int):\n"
     ]
    },
    {
     "data": {
      "text/plain": [
       "0.9100728556513786"
      ]
     },
     "execution_count": 4,
     "metadata": {
      "tags": []
     },
     "output_type": "execute_result"
    }
   ],
   "source": [
    "model.distance('programmer','woman')"
   ]
  },
  {
   "cell_type": "code",
   "execution_count": 28,
   "metadata": {
    "colab": {
     "base_uri": "https://localhost:8080/",
     "height": 92
    },
    "colab_type": "code",
    "id": "TlhWo1pHgdvL",
    "outputId": "b11c2c31-4528-4378-f1ee-9fe2892fe898"
   },
   "outputs": [
    {
     "name": "stderr",
     "output_type": "stream",
     "text": [
      "/usr/local/lib/python3.6/dist-packages/gensim/matutils.py:737: FutureWarning: Conversion of the second argument of issubdtype from `int` to `np.signedinteger` is deprecated. In future, it will be treated as `np.int64 == np.dtype(int).type`.\n",
      "  if np.issubdtype(vec.dtype, np.int):\n"
     ]
    },
    {
     "data": {
      "text/plain": [
       "0.5967375934123993"
      ]
     },
     "execution_count": 28,
     "metadata": {
      "tags": []
     },
     "output_type": "execute_result"
    }
   ],
   "source": [
    "model.distance('homemaker','woman')"
   ]
  },
  {
   "cell_type": "code",
   "execution_count": 29,
   "metadata": {
    "colab": {
     "base_uri": "https://localhost:8080/",
     "height": 92
    },
    "colab_type": "code",
    "id": "aSpjBeLjgikk",
    "outputId": "0db9c6a4-f44f-4b20-8cbb-cde7dfea829c"
   },
   "outputs": [
    {
     "name": "stderr",
     "output_type": "stream",
     "text": [
      "/usr/local/lib/python3.6/dist-packages/gensim/matutils.py:737: FutureWarning: Conversion of the second argument of issubdtype from `int` to `np.signedinteger` is deprecated. In future, it will be treated as `np.int64 == np.dtype(int).type`.\n",
      "  if np.issubdtype(vec.dtype, np.int):\n"
     ]
    },
    {
     "data": {
      "text/plain": [
       "0.7840536832809448"
      ]
     },
     "execution_count": 29,
     "metadata": {
      "tags": []
     },
     "output_type": "execute_result"
    }
   ],
   "source": [
    "model.distance('homemaker','man')"
   ]
  },
  {
   "cell_type": "code",
   "execution_count": 5,
   "metadata": {
    "colab": {
     "base_uri": "https://localhost:8080/",
     "height": 92
    },
    "colab_type": "code",
    "id": "cSjDuDKPca31",
    "outputId": "33e19f81-1b54-4f94-c8ad-a560e9da7989"
   },
   "outputs": [
    {
     "name": "stderr",
     "output_type": "stream",
     "text": [
      "/usr/local/lib/python3.6/dist-packages/gensim/matutils.py:737: FutureWarning: Conversion of the second argument of issubdtype from `int` to `np.signedinteger` is deprecated. In future, it will be treated as `np.int64 == np.dtype(int).type`.\n",
      "  if np.issubdtype(vec.dtype, np.int):\n"
     ]
    },
    {
     "data": {
      "text/plain": [
       "0.7664700299501419"
      ]
     },
     "execution_count": 5,
     "metadata": {
      "tags": []
     },
     "output_type": "execute_result"
    }
   ],
   "source": [
    "model.distance('programmer','homemaker')"
   ]
  },
  {
   "cell_type": "code",
   "execution_count": 6,
   "metadata": {
    "colab": {
     "base_uri": "https://localhost:8080/",
     "height": 257
    },
    "colab_type": "code",
    "id": "XILqQkZlchzl",
    "outputId": "3e6ad33f-af4e-45cb-e21e-277810535a85"
   },
   "outputs": [
    {
     "name": "stderr",
     "output_type": "stream",
     "text": [
      "/usr/local/lib/python3.6/dist-packages/gensim/matutils.py:737: FutureWarning: Conversion of the second argument of issubdtype from `int` to `np.signedinteger` is deprecated. In future, it will be treated as `np.int64 == np.dtype(int).type`.\n",
      "  if np.issubdtype(vec.dtype, np.int):\n"
     ]
    },
    {
     "data": {
      "text/plain": [
       "[('housewife', 0.710660994052887),\n",
       " ('retired_schoolteacher', 0.6035342812538147),\n",
       " ('Ayesha_Dar', 0.5961886644363403),\n",
       " ('registered_nurse', 0.5719165802001953),\n",
       " ('Aye_Aye_Mar', 0.5667943954467773),\n",
       " ('beautician', 0.5633341073989868),\n",
       " ('Risa_Stoller_Black', 0.5630967617034912),\n",
       " ('Jill_Panell', 0.5629873871803284),\n",
       " ('schoolteacher', 0.554128110408783),\n",
       " ('businesswoman', 0.5524101257324219)]"
      ]
     },
     "execution_count": 6,
     "metadata": {
      "tags": []
     },
     "output_type": "execute_result"
    }
   ],
   "source": [
    "model.similar_by_word('homemaker')"
   ]
  },
  {
   "cell_type": "code",
   "execution_count": 7,
   "metadata": {
    "colab": {
     "base_uri": "https://localhost:8080/",
     "height": 257
    },
    "colab_type": "code",
    "id": "QltcKLSacm8T",
    "outputId": "5d9a9444-38bb-4b1f-eebf-913937886306"
   },
   "outputs": [
    {
     "name": "stderr",
     "output_type": "stream",
     "text": [
      "/usr/local/lib/python3.6/dist-packages/gensim/matutils.py:737: FutureWarning: Conversion of the second argument of issubdtype from `int` to `np.signedinteger` is deprecated. In future, it will be treated as `np.int64 == np.dtype(int).type`.\n",
      "  if np.issubdtype(vec.dtype, np.int):\n"
     ]
    },
    {
     "data": {
      "text/plain": [
       "[('programmers', 0.6646654605865479),\n",
       " ('Programmer', 0.6181111335754395),\n",
       " ('coder', 0.6113353967666626),\n",
       " ('programer', 0.6070293188095093),\n",
       " ('computer_programmer', 0.5910931825637817),\n",
       " ('Jon_Shiring', 0.5551139116287231),\n",
       " ('sysadmin', 0.5432621836662292),\n",
       " ('animator', 0.5348355174064636),\n",
       " ('coders', 0.5315176844596863),\n",
       " ('engineer', 0.5284372568130493)]"
      ]
     },
     "execution_count": 7,
     "metadata": {
      "tags": []
     },
     "output_type": "execute_result"
    }
   ],
   "source": [
    "model.similar_by_word('programmer')"
   ]
  },
  {
   "cell_type": "code",
   "execution_count": 21,
   "metadata": {
    "colab": {
     "base_uri": "https://localhost:8080/",
     "height": 257
    },
    "colab_type": "code",
    "id": "xy8ch-Ucex3e",
    "outputId": "6f43ebbb-8b5f-4b88-e442-47022a5a053e"
   },
   "outputs": [
    {
     "name": "stderr",
     "output_type": "stream",
     "text": [
      "/usr/local/lib/python3.6/dist-packages/gensim/matutils.py:737: FutureWarning: Conversion of the second argument of issubdtype from `int` to `np.signedinteger` is deprecated. In future, it will be treated as `np.int64 == np.dtype(int).type`.\n",
      "  if np.issubdtype(vec.dtype, np.int):\n"
     ]
    },
    {
     "data": {
      "text/plain": [
       "[('woman', 0.7664012908935547),\n",
       " ('boy', 0.6824870109558105),\n",
       " ('teenager', 0.6586930155754089),\n",
       " ('teenage_girl', 0.6147903800010681),\n",
       " ('girl', 0.5921714305877686),\n",
       " ('suspected_purse_snatcher', 0.5716364979743958),\n",
       " ('robber', 0.5585119128227234),\n",
       " ('Robbery_suspect', 0.5584409236907959),\n",
       " ('teen_ager', 0.5549196600914001),\n",
       " ('men', 0.5489763021469116)]"
      ]
     },
     "execution_count": 21,
     "metadata": {
      "tags": []
     },
     "output_type": "execute_result"
    }
   ],
   "source": [
    "model.similar_by_word('man')"
   ]
  },
  {
   "cell_type": "code",
   "execution_count": 22,
   "metadata": {
    "colab": {
     "base_uri": "https://localhost:8080/",
     "height": 257
    },
    "colab_type": "code",
    "id": "Y4UmcAXje0z9",
    "outputId": "ea14525d-3556-4d2f-d7f3-56365c847e89"
   },
   "outputs": [
    {
     "name": "stderr",
     "output_type": "stream",
     "text": [
      "/usr/local/lib/python3.6/dist-packages/gensim/matutils.py:737: FutureWarning: Conversion of the second argument of issubdtype from `int` to `np.signedinteger` is deprecated. In future, it will be treated as `np.int64 == np.dtype(int).type`.\n",
      "  if np.issubdtype(vec.dtype, np.int):\n"
     ]
    },
    {
     "data": {
      "text/plain": [
       "[('man', 0.7664012908935547),\n",
       " ('girl', 0.7494640946388245),\n",
       " ('teenage_girl', 0.7336829900741577),\n",
       " ('teenager', 0.631708562374115),\n",
       " ('lady', 0.6288785934448242),\n",
       " ('teenaged_girl', 0.6141783595085144),\n",
       " ('mother', 0.607630729675293),\n",
       " ('policewoman', 0.6069462299346924),\n",
       " ('boy', 0.5975908041000366),\n",
       " ('Woman', 0.5770983695983887)]"
      ]
     },
     "execution_count": 22,
     "metadata": {
      "tags": []
     },
     "output_type": "execute_result"
    }
   ],
   "source": [
    "model.similar_by_word('woman')"
   ]
  },
  {
   "cell_type": "code",
   "execution_count": 23,
   "metadata": {
    "colab": {
     "base_uri": "https://localhost:8080/",
     "height": 257
    },
    "colab_type": "code",
    "id": "nPglNWOOe6v3",
    "outputId": "82db1c94-c123-4268-c483-c7b679f2569a"
   },
   "outputs": [
    {
     "name": "stderr",
     "output_type": "stream",
     "text": [
      "/usr/local/lib/python3.6/dist-packages/gensim/matutils.py:737: FutureWarning: Conversion of the second argument of issubdtype from `int` to `np.signedinteger` is deprecated. In future, it will be treated as `np.int64 == np.dtype(int).type`.\n",
      "  if np.issubdtype(vec.dtype, np.int):\n"
     ]
    },
    {
     "data": {
      "text/plain": [
       "[('faith_Jezierski', 0.6965421438217163),\n",
       " ('sciences', 0.6821076273918152),\n",
       " ('biology', 0.6775784492492676),\n",
       " ('scientific', 0.6535001993179321),\n",
       " ('mathematics', 0.6300910711288452),\n",
       " ('Hilal_Khashan_professor', 0.6153367161750793),\n",
       " ('impeach_USADA', 0.6149060130119324),\n",
       " ('professor_Kent_Redfield', 0.6144178509712219),\n",
       " ('physics_astronomy', 0.6105073690414429),\n",
       " ('bionic_prosthetic_fingers', 0.6083078384399414)]"
      ]
     },
     "execution_count": 23,
     "metadata": {
      "tags": []
     },
     "output_type": "execute_result"
    }
   ],
   "source": [
    "model.similar_by_word('science')"
   ]
  },
  {
   "cell_type": "code",
   "execution_count": 24,
   "metadata": {
    "colab": {
     "base_uri": "https://localhost:8080/",
     "height": 257
    },
    "colab_type": "code",
    "id": "eAbWTfXqe_A8",
    "outputId": "17b2ce5c-a5a6-4187-9a6c-3cb358bb521d"
   },
   "outputs": [
    {
     "name": "stderr",
     "output_type": "stream",
     "text": [
      "/usr/local/lib/python3.6/dist-packages/gensim/matutils.py:737: FutureWarning: Conversion of the second argument of issubdtype from `int` to `np.signedinteger` is deprecated. In future, it will be treated as `np.int64 == np.dtype(int).type`.\n",
      "  if np.issubdtype(vec.dtype, np.int):\n"
     ]
    },
    {
     "data": {
      "text/plain": [
       "[('visual_arts', 0.8089956641197205),\n",
       " ('performing_arts', 0.790703535079956),\n",
       " ('Arts', 0.6860682368278503),\n",
       " ('arts_humanities', 0.6266857981681824),\n",
       " ('humanities', 0.6136183738708496),\n",
       " ('SARAH_HENNING_covers', 0.6008375287055969),\n",
       " ('art', 0.6003196239471436),\n",
       " ('Performing_arts', 0.5985028147697449),\n",
       " ('Marquee_Visual', 0.5581510066986084),\n",
       " ('crafts_antiques_collectibles', 0.5573685765266418)]"
      ]
     },
     "execution_count": 24,
     "metadata": {
      "tags": []
     },
     "output_type": "execute_result"
    }
   ],
   "source": [
    "model.similar_by_word('arts')"
   ]
  },
  {
   "cell_type": "code",
   "execution_count": 8,
   "metadata": {
    "colab": {
     "base_uri": "https://localhost:8080/",
     "height": 55
    },
    "colab_type": "code",
    "id": "p2XLsJJHc95B",
    "outputId": "1b46719b-165c-44ab-cc8a-0c63fe1fd3ca"
   },
   "outputs": [
    {
     "name": "stdout",
     "output_type": "stream",
     "text": [
      "[('queen', 0.9314123392105103), ('monarch', 0.858533501625061), ('princess', 0.8476566076278687), ('Queen_Consort', 0.8150269985198975), ('queens', 0.8099815249443054), ('crown_prince', 0.808997631072998), ('royal_palace', 0.8027306795120239), ('monarchy', 0.801961362361908), ('prince', 0.800979733467102), ('empress', 0.7958388328552246)]\n"
     ]
    }
   ],
   "source": [
    "print(model.most_similar_cosmul(positive=['king','woman'], negative=['man']))"
   ]
  },
  {
   "cell_type": "code",
   "execution_count": 9,
   "metadata": {
    "colab": {
     "base_uri": "https://localhost:8080/",
     "height": 55
    },
    "colab_type": "code",
    "id": "H_1rDqx4dUph",
    "outputId": "bd033dc1-3150-44ad-96c7-63da9865edba"
   },
   "outputs": [
    {
     "name": "stdout",
     "output_type": "stream",
     "text": [
      "[('professions', 0.921699047088623), ('noble_profession', 0.8494312763214111), ('LSUC', 0.8270666599273682), ('midwifery', 0.8225896954536438), ('WOCN_Society', 0.8138322830200195), ('Profession', 0.8092873096466064), ('vocation', 0.8060693144798279), ('postgraduate_qualification', 0.8036268949508667), ('motherhood', 0.8031560778617859), ('Cosmetologist', 0.8021456599235535)]\n"
     ]
    }
   ],
   "source": [
    "print(model.most_similar_cosmul(positive=['profession','woman'], negative=['man']))"
   ]
  },
  {
   "cell_type": "code",
   "execution_count": 27,
   "metadata": {
    "colab": {
     "base_uri": "https://localhost:8080/",
     "height": 55
    },
    "colab_type": "code",
    "id": "WkkYDNqHgJlu",
    "outputId": "b592978b-044f-48da-dda5-af4f824ad0a7"
   },
   "outputs": [
    {
     "name": "stdout",
     "output_type": "stream",
     "text": [
      "[('noble_profession', 0.8517171740531921), ('professions', 0.835863471031189), ('professional', 0.7806158065795898), ('careers', 0.7796127200126648), ('vocation', 0.7755229473114014), ('honorable_profession', 0.7741931676864624), ('career', 0.7713903188705444), ('professionalism', 0.7508007884025574), ('skillset', 0.7500640153884888), ('skill', 0.7492834329605103)]\n"
     ]
    }
   ],
   "source": [
    "print(model.most_similar_cosmul(positive=['profession','man'], negative=['woman']))"
   ]
  },
  {
   "cell_type": "code",
   "execution_count": 11,
   "metadata": {
    "colab": {
     "base_uri": "https://localhost:8080/",
     "height": 55
    },
    "colab_type": "code",
    "id": "iu8OVnOYdaWH",
    "outputId": "f332c139-6f45-4220-be4c-d1ad720a89a5"
   },
   "outputs": [
    {
     "name": "stdout",
     "output_type": "stream",
     "text": [
      "[('biases', 0.9105449914932251), ('gender_bias', 0.9105209112167358), ('gender_biases', 0.867386519908905), ('gender_discrimination', 0.8630176186561584), ('discrimination', 0.8544822335243225), ('sexism', 0.8492488265037537), ('biased', 0.8399590253829956), ('prejudice', 0.8356584310531616), ('gender_stereotypes', 0.8308755159378052), ('biasness', 0.8280906677246094)]\n"
     ]
    }
   ],
   "source": [
    "print(model.most_similar_cosmul(positive=['bias','woman'], negative=['man']))"
   ]
  },
  {
   "cell_type": "code",
   "execution_count": 12,
   "metadata": {
    "colab": {
     "base_uri": "https://localhost:8080/",
     "height": 55
    },
    "colab_type": "code",
    "id": "oBeR8pHodjN2",
    "outputId": "e628172f-5143-49ab-ced8-49ab1ed8afbc"
   },
   "outputs": [
    {
     "name": "stdout",
     "output_type": "stream",
     "text": [
      "[('biased', 0.8486912846565247), ('biases', 0.8301576375961304), ('homerism', 0.7992411255836487), ('partiality', 0.7927114963531494), ('animus', 0.7899832725524902), ('prejudice', 0.7746440768241882), ('leanings', 0.7666926980018616), ('Bias', 0.7666356563568115), ('favoritism', 0.7657158970832825), ('tendencies', 0.76518315076828)]\n"
     ]
    }
   ],
   "source": [
    "print(model.most_similar_cosmul(positive=['bias','man'], negative=['woman']))"
   ]
  },
  {
   "cell_type": "code",
   "execution_count": 13,
   "metadata": {
    "colab": {
     "base_uri": "https://localhost:8080/",
     "height": 55
    },
    "colab_type": "code",
    "id": "glttYQJ0dwXO",
    "outputId": "ab0cb1c7-b168-4c6f-be0f-0a12ad889a91"
   },
   "outputs": [
    {
     "name": "stdout",
     "output_type": "stream",
     "text": [
      "[('gynecologist', 0.9882153868675232), ('nurse_practitioner', 0.9429976940155029), ('nurse', 0.9373465776443481), ('ob_gyn', 0.9323367476463318), ('doctors', 0.9288290739059448), ('pediatrician', 0.9242749810218811), ('obstetrician', 0.9175830483436584), ('physician', 0.9160466194152832), ('midwife', 0.9073526859283447), ('nurse_midwife', 0.9057160019874573)]\n"
     ]
    }
   ],
   "source": [
    "print(model.most_similar_cosmul(positive=['doctor','woman'], negative=['man']))"
   ]
  },
  {
   "cell_type": "code",
   "execution_count": 14,
   "metadata": {
    "colab": {
     "base_uri": "https://localhost:8080/",
     "height": 55
    },
    "colab_type": "code",
    "id": "9M8_cIyAeDCG",
    "outputId": "8bd0bdc9-3fcc-43cc-f420-8aeef38cbd89"
   },
   "outputs": [
    {
     "name": "stdout",
     "output_type": "stream",
     "text": [
      "[('headmaster', 0.8305618166923523), ('PE_teacher', 0.8203741908073425), ('teachers', 0.8167983293533325), ('pupil', 0.8115481734275818), ('phys_ed_teacher', 0.7996430993080139), ('school', 0.7992374897003174), ('Teacher', 0.7979518175125122), ('tutor', 0.7966627478599548), ('elementary', 0.7894147038459778), ('schoolboy', 0.7883162498474121)]\n"
     ]
    }
   ],
   "source": [
    "print(model.most_similar_cosmul(positive=['teacher','man'], negative=['woman']))"
   ]
  },
  {
   "cell_type": "code",
   "execution_count": 15,
   "metadata": {
    "colab": {
     "base_uri": "https://localhost:8080/",
     "height": 55
    },
    "colab_type": "code",
    "id": "VYWTPd83eHI2",
    "outputId": "9366c2e0-2904-4969-ca23-8c0a8b27672c"
   },
   "outputs": [
    {
     "name": "stdout",
     "output_type": "stream",
     "text": [
      "[('teachers', 0.9303208589553833), ('guidance_counselor', 0.9227887392044067), ('Teacher', 0.9154822826385498), ('para_educator', 0.8982494473457336), ('paraeducator', 0.8968679904937744), ('headmistress', 0.8929976224899292), ('elementary', 0.892819881439209), ('paraprofessional', 0.8909108638763428), ('librarian', 0.8816208839416504), ('parapro', 0.8802089095115662)]\n"
     ]
    }
   ],
   "source": [
    "print(model.most_similar_cosmul(positive=['teacher','woman'], negative=['man']))"
   ]
  },
  {
   "cell_type": "code",
   "execution_count": 25,
   "metadata": {
    "colab": {
     "base_uri": "https://localhost:8080/",
     "height": 55
    },
    "colab_type": "code",
    "id": "bC7hQGZceMyg",
    "outputId": "c38ae06d-e1bc-4c8d-ff10-8bebf9f1bae8"
   },
   "outputs": [
    {
     "name": "stdout",
     "output_type": "stream",
     "text": [
      "[('physics_astronomy', 0.8566005825996399), ('faith_Jezierski', 0.8433106541633606), ('Shlomo_Avineri_professor', 0.8395698666572571), ('mathematics', 0.8338029980659485), ('physics', 0.831479549407959), ('arithmetic_geometry', 0.8257259726524353), ('scientific', 0.824877917766571), ('sciences', 0.8187919855117798), ('astronomy', 0.816504955291748), ('biology', 0.8109998106956482)]\n"
     ]
    }
   ],
   "source": [
    "print(model.most_similar_cosmul(positive=['science','man'], negative=['woman']))"
   ]
  },
  {
   "cell_type": "code",
   "execution_count": 26,
   "metadata": {
    "colab": {
     "base_uri": "https://localhost:8080/",
     "height": 55
    },
    "colab_type": "code",
    "id": "qKDWOcqUeWYa",
    "outputId": "78ecb6e0-f7ce-4af1-8888-1bdddd51025d"
   },
   "outputs": [
    {
     "name": "stdout",
     "output_type": "stream",
     "text": [
      "[('biology', 0.8675276041030884), ('sciences', 0.8639174699783325), ('faith_Jezierski', 0.8532572984695435), ('Hilal_Khashan_professor', 0.8498795032501221), ('professor_Burdett_Loomis', 0.8378580212593079), ('developmental_psychology', 0.834697425365448), ('arts_humanities', 0.8325107097625732), ('DuPont_http://www.dupont.com', 0.8319414258003235), ('anthropology', 0.8317320346832275), ('scientific', 0.8286232948303223)]\n"
     ]
    }
   ],
   "source": [
    "print(model.most_similar_cosmul(positive=['science','woman'], negative=['man']))"
   ]
  },
  {
   "cell_type": "code",
   "execution_count": 32,
   "metadata": {
    "colab": {
     "base_uri": "https://localhost:8080/",
     "height": 92
    },
    "colab_type": "code",
    "id": "yKbaaQxEfORE",
    "outputId": "7a0a801b-be6e-47d3-ba72-a557be1adf85"
   },
   "outputs": [
    {
     "name": "stdout",
     "output_type": "stream",
     "text": [
      "0.2905807\n"
     ]
    },
    {
     "name": "stderr",
     "output_type": "stream",
     "text": [
      "/usr/local/lib/python3.6/dist-packages/gensim/matutils.py:737: FutureWarning: Conversion of the second argument of issubdtype from `int` to `np.signedinteger` is deprecated. In future, it will be treated as `np.int64 == np.dtype(int).type`.\n",
      "  if np.issubdtype(vec.dtype, np.int):\n"
     ]
    }
   ],
   "source": [
    "print(model.n_similarity(['man','male','gentleman','guy'],['programmer','doctor','scientist','masonry']))"
   ]
  },
  {
   "cell_type": "code",
   "execution_count": 33,
   "metadata": {
    "colab": {
     "base_uri": "https://localhost:8080/",
     "height": 92
    },
    "colab_type": "code",
    "id": "HWKnJ11eg2Dn",
    "outputId": "9a94e461-0d60-445f-d0e6-b1667277c318"
   },
   "outputs": [
    {
     "name": "stdout",
     "output_type": "stream",
     "text": [
      "0.23250072\n"
     ]
    },
    {
     "name": "stderr",
     "output_type": "stream",
     "text": [
      "/usr/local/lib/python3.6/dist-packages/gensim/matutils.py:737: FutureWarning: Conversion of the second argument of issubdtype from `int` to `np.signedinteger` is deprecated. In future, it will be treated as `np.int64 == np.dtype(int).type`.\n",
      "  if np.issubdtype(vec.dtype, np.int):\n"
     ]
    }
   ],
   "source": [
    "print(model.n_similarity(['woman','female','lady','girl'],['programmer','doctor','scientist','masonry']))"
   ]
  },
  {
   "cell_type": "code",
   "execution_count": 34,
   "metadata": {
    "colab": {
     "base_uri": "https://localhost:8080/",
     "height": 92
    },
    "colab_type": "code",
    "id": "JRdCf2X7hi3D",
    "outputId": "0e11f3fe-1b69-44bf-b47c-f91d133b453a"
   },
   "outputs": [
    {
     "name": "stdout",
     "output_type": "stream",
     "text": [
      "0.5179087\n"
     ]
    },
    {
     "name": "stderr",
     "output_type": "stream",
     "text": [
      "/usr/local/lib/python3.6/dist-packages/gensim/matutils.py:737: FutureWarning: Conversion of the second argument of issubdtype from `int` to `np.signedinteger` is deprecated. In future, it will be treated as `np.int64 == np.dtype(int).type`.\n",
      "  if np.issubdtype(vec.dtype, np.int):\n"
     ]
    }
   ],
   "source": [
    "print(model.n_similarity(['woman','female','lady','girl'],['homemaker','nurse','teacher','midwife']))"
   ]
  },
  {
   "cell_type": "code",
   "execution_count": 35,
   "metadata": {
    "colab": {
     "base_uri": "https://localhost:8080/",
     "height": 92
    },
    "colab_type": "code",
    "id": "9Vr0STMahsXA",
    "outputId": "f3d6684e-5563-4243-daed-1903352f3bf2"
   },
   "outputs": [
    {
     "name": "stdout",
     "output_type": "stream",
     "text": [
      "0.29502562\n"
     ]
    },
    {
     "name": "stderr",
     "output_type": "stream",
     "text": [
      "/usr/local/lib/python3.6/dist-packages/gensim/matutils.py:737: FutureWarning: Conversion of the second argument of issubdtype from `int` to `np.signedinteger` is deprecated. In future, it will be treated as `np.int64 == np.dtype(int).type`.\n",
      "  if np.issubdtype(vec.dtype, np.int):\n"
     ]
    }
   ],
   "source": [
    "print(model.n_similarity(['man','male','gentleman','guy'],['homemaker','nurse','teacher','midwife']))"
   ]
  },
  {
   "cell_type": "code",
   "execution_count": null,
   "metadata": {
    "colab": {},
    "colab_type": "code",
    "id": "QUZQVGxfhxpt"
   },
   "outputs": [],
   "source": []
  }
 ],
 "metadata": {
  "accelerator": "GPU",
  "colab": {
   "name": "we_test.ipynb",
   "provenance": []
  },
  "kernelspec": {
   "display_name": "Python 3",
   "language": "python",
   "name": "python3"
  },
  "language_info": {
   "codemirror_mode": {
    "name": "ipython",
    "version": 3
   },
   "file_extension": ".py",
   "mimetype": "text/x-python",
   "name": "python",
   "nbconvert_exporter": "python",
   "pygments_lexer": "ipython3",
   "version": "3.7.4"
  }
 },
 "nbformat": 4,
 "nbformat_minor": 4
}
