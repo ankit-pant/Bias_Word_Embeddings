{
 "cells": [
  {
   "cell_type": "markdown",
   "metadata": {},
   "source": [
    "# Identifying Bias in Word Embeddings and Debiasing them"
   ]
  },
  {
   "cell_type": "markdown",
   "metadata": {},
   "source": [
    "## Loading libraries and word embeddings"
   ]
  },
  {
   "cell_type": "code",
   "execution_count": 5,
   "metadata": {},
   "outputs": [],
   "source": [
    "import gensim\n",
    "import numpy as npy\n",
    "\n",
    "model1 = gensim.models.KeyedVectors.load_word2vec_format('./reddit_US_w2v_2.w2v', binary=False, unicode_errors='ignore')\n",
    "model2 = gensim.models.KeyedVectors.load_word2vec_format('./reddit_US_w2v_3.w2v', binary=False, unicode_errors='ignore')\n",
    "\n"
   ]
  },
  {
   "cell_type": "markdown",
   "metadata": {},
   "source": [
    "## Checking for Bias in models"
   ]
  },
  {
   "cell_type": "code",
   "execution_count": 31,
   "metadata": {},
   "outputs": [
    {
     "name": "stdout",
     "output_type": "stream",
     "text": [
      "Model 1: Distance been man and programmer\n",
      "0.6887528002262115\n",
      "Model 1: Distance been womman and programmer\n",
      "0.672260046005249\n",
      "Model 2: Distance been man and programmer\n",
      "0.668290764093399\n",
      "Model 2: Distance been womman and programmer\n",
      "0.672260046005249\n"
     ]
    }
   ],
   "source": [
    "print(\"Model 1: Distance been man and programmer\")\n",
    "print(model1.distance('programmer','man'))\n",
    "print(\"Model 1: Distance been womman and programmer\")\n",
    "print(model1.distance('programmer','woman'))\n",
    "print(\"Model 2: Distance been man and programmer\")\n",
    "print(model2.distance('programmer','man'))\n",
    "print(\"Model 2: Distance been womman and programmer\")\n",
    "print(model1.distance('programmer','woman'))"
   ]
  },
  {
   "cell_type": "code",
   "execution_count": 32,
   "metadata": {},
   "outputs": [
    {
     "name": "stdout",
     "output_type": "stream",
     "text": [
      "Model 1: Distance been man and homemaker\n",
      "0.7382047772407532\n",
      "Model 1: Distance been womman and homemaker\n",
      "0.5408898890018463\n",
      "Model 2: Distance been man and homemaker\n",
      "0.8588528782129288\n",
      "Model 2: Distance been womman and homemaker\n",
      "0.5408898890018463\n"
     ]
    }
   ],
   "source": [
    "print(\"Model 1: Distance been man and homemaker\")\n",
    "print(model1.distance('homemaker','man'))\n",
    "print(\"Model 1: Distance been womman and homemaker\")\n",
    "print(model1.distance('homemaker','woman'))\n",
    "print(\"Model 2: Distance been man and homemaker\")\n",
    "print(model2.distance('homemaker','man'))\n",
    "print(\"Model 2: Distance been womman and homemaker\")\n",
    "print(model1.distance('homemaker','woman'))"
   ]
  },
  {
   "cell_type": "code",
   "execution_count": 34,
   "metadata": {},
   "outputs": [
    {
     "name": "stdout",
     "output_type": "stream",
     "text": [
      "Model 1: Most Similar words to homemaker\n",
      "[('caretaker', 0.7695029377937317), ('surrogate', 0.7318732142448425), ('caregiver', 0.7069643139839172), ('machinist', 0.7060149312019348), ('veterinarian', 0.7017024755477905), ('sahm', 0.701680064201355), ('bodyguard', 0.6902418732643127), ('breadwinner', 0.6864389181137085), ('gardener', 0.6863653659820557), ('mentor', 0.6826911568641663)]\n",
      "Model 2: Most Similar words to homemaker\n",
      "[('nutritionist', 0.719958484172821), ('caretaker', 0.6687526702880859), ('generalist', 0.6667203903198242), ('caregiver', 0.6605799794197083), ('practitioner', 0.6590883135795593), ('veterinarian', 0.6520971655845642), ('mediator', 0.6486964821815491), ('trainer', 0.648226797580719), ('companion', 0.64609694480896), ('commoner', 0.6433244943618774)]\n"
     ]
    }
   ],
   "source": [
    "print(\"Model 1: Most Similar words to homemaker\")\n",
    "print(model1.similar_by_word('homemaker'))\n",
    "print(\"Model 2: Most Similar words to homemaker\")\n",
    "print(model2.similar_by_word('homemaker'))"
   ]
  },
  {
   "cell_type": "code",
   "execution_count": 35,
   "metadata": {},
   "outputs": [
    {
     "name": "stdout",
     "output_type": "stream",
     "text": [
      "Model 2: Most Similar words to programmer\n",
      "[('coder', 0.9313935041427612), ('sysadmin', 0.8794044852256775), ('machinist', 0.8427145481109619), ('mathematician', 0.8426489233970642), ('chemist', 0.842029869556427), ('linguist', 0.8189074993133545), ('physicist', 0.8033920526504517), ('geologist', 0.7951820492744446), ('developer', 0.7947352528572083), ('librarian', 0.7772208452224731)]\n",
      "Model 2: Most Similar words to programmer\n",
      "[('coder', 0.939368486404419), ('sysadmin', 0.9020252227783203), ('mathematician', 0.8449020981788635), ('machinist', 0.844660758972168), ('chemist', 0.8376103639602661), ('linguist', 0.8284443616867065), ('physicist', 0.8071470260620117), ('geologist', 0.8070265054702759), ('marketer', 0.7925061583518982), ('developer', 0.7923180460929871)]\n"
     ]
    }
   ],
   "source": [
    "print(\"Model 2: Most Similar words to programmer\")\n",
    "print(model1.similar_by_word('programmer'))\n",
    "print(\"Model 2: Most Similar words to programmer\")\n",
    "print(model2.similar_by_word('programmer'))"
   ]
  },
  {
   "cell_type": "code",
   "execution_count": 36,
   "metadata": {},
   "outputs": [
    {
     "name": "stdout",
     "output_type": "stream",
     "text": [
      "Model 1: Most Similar words to science\n",
      "[('psychology', 0.8715920448303223), ('mathematics', 0.8455883860588074), ('economics', 0.8373518586158752), ('biology', 0.8262671828269958), ('sociology', 0.8064960837364197), ('physics', 0.7978413105010986), ('scientific', 0.7959038019180298), ('philosophy', 0.7879223227500916), ('linguistics', 0.7872673273086548), ('neuroscience', 0.7838181853294373)]\n",
      "Model 2: Most Similar words to science\n",
      "[('psychology', 0.8737834095954895), ('mathematics', 0.8458322286605835), ('economics', 0.8455408811569214), ('biology', 0.8196297287940979), ('sociology', 0.8021811246871948), ('linguistics', 0.7980477213859558), ('philosophy', 0.7961849570274353), ('scientific', 0.7946676015853882), ('physics', 0.791100800037384), ('neuroscience', 0.7840622663497925)]\n"
     ]
    }
   ],
   "source": [
    "print(\"Model 1: Most Similar words to science\")\n",
    "print(model1.similar_by_word('science'))\n",
    "print(\"Model 2: Most Similar words to science\")\n",
    "print(model2.similar_by_word('science'))"
   ]
  },
  {
   "cell_type": "code",
   "execution_count": 37,
   "metadata": {},
   "outputs": [
    {
     "name": "stdout",
     "output_type": "stream",
     "text": [
      "Model 1: Most Similar words to arts\n",
      "[('humanities', 0.7604825496673584), ('sciences', 0.7189184427261353), ('sociology', 0.6931641697883606), ('engineering', 0.6824780106544495), ('mathematics', 0.6772620677947998), ('econ', 0.6736243963241577), ('majors', 0.6677612662315369), ('academics', 0.6676753759384155), ('polisci', 0.6673964262008667), ('anthro', 0.6665801405906677)]\n",
      "Model 2: Most Similar words to arts\n",
      "[('humanities', 0.7378760576248169), ('sciences', 0.7170118689537048), ('sociology', 0.6931499242782593), ('mathematics', 0.6882011890411377), ('engineering', 0.6844739317893982), ('astronomy', 0.6841855645179749), ('econ', 0.6794013977050781), ('academics', 0.6734787821769714), ('majors', 0.6685867309570312), ('astrophysics', 0.6664333939552307)]\n"
     ]
    }
   ],
   "source": [
    "print(\"Model 1: Most Similar words to arts\")\n",
    "print(model1.similar_by_word('arts'))\n",
    "print(\"Model 2: Most Similar words to arts\")\n",
    "print(model2.similar_by_word('arts'))"
   ]
  },
  {
   "cell_type": "markdown",
   "metadata": {},
   "source": [
    "### Analogies with respect to Gender"
   ]
  },
  {
   "cell_type": "code",
   "execution_count": 44,
   "metadata": {},
   "outputs": [
    {
     "name": "stdout",
     "output_type": "stream",
     "text": [
      "Finding analogies with respect to model 1:\n",
      "\n",
      "Subtracting man from male-dominated roles\n",
      "\n",
      "manager is to man as mastercard is to woman\n",
      "executive is to man as arbitration is to woman\n",
      "doctor is to man as psychiatrist is to woman\n",
      "lawyer is to man as physician is to woman\n",
      "programmer is to man as nutritionist is to woman\n",
      "professor is to man as physician is to woman\n",
      "soldier is to man as gunman is to woman\n",
      "officer is to man as detainee is to woman\n",
      "janitor is to man as pharmacist is to woman\n",
      "rockstar is to man as mojang is to woman\n",
      "\n",
      "Subtracting woman from female-dominated roles\n",
      "\n",
      "nurse is to woman as bouncer is to man\n",
      "teacher is to woman as prof is to man\n",
      "homemaker is to woman as machinist is to man\n",
      "housewife is to woman as hag is to man\n",
      "midwife is to woman as housekeeper is to man\n",
      "secretary is to woman as chairman is to man\n",
      "maid is to woman as boy is to man\n",
      "dancer is to woman as diver is to man\n",
      "receptionist is to woman as buddy is to man\n",
      "artist is to woman as album is to man\n"
     ]
    }
   ],
   "source": [
    "roles_men = [\"manager\", \"executive\", \"doctor\", \"lawyer\", \"programmer\", \"professor\", \"soldier\", \"officer\", \"janitor\", \"rockstar\"]\n",
    "roles_women = [\"nurse\", \"teacher\", \"homemaker\", \"housewife\", \"midwife\", \"secretary\", \"maid\", \"dancer\", \"receptionist\", \"artist\"]\n",
    "print(\"Finding analogies with respect to model 1:\")\n",
    "print(\"\\nSubtracting man from male-dominated roles\\n\")\n",
    "for rm in roles_men:\n",
    "    print(rm, \"is to man as\",model1.most_similar_cosmul(positive=[rm,'woman'], negative=['man'])[0][0],\"is to woman\")\n",
    "    \n",
    "print(\"\\nSubtracting woman from female-dominated roles\\n\")\n",
    "for rw in roles_women:\n",
    "    print(rw, \"is to woman as\",model1.most_similar_cosmul(positive=[rw,'man'], negative=['woman'])[0][0],\"is to man\")"
   ]
  },
  {
   "cell_type": "code",
   "execution_count": 45,
   "metadata": {},
   "outputs": [
    {
     "name": "stdout",
     "output_type": "stream",
     "text": [
      "Finding analogies with respect to model 2:\n",
      "\n",
      "Subtracting man from male-dominated roles\n",
      "\n",
      "manager is to man as ssa is to woman\n",
      "executive is to man as administrative is to woman\n",
      "doctor is to man as psychiatrist is to woman\n",
      "lawyer is to man as psychiatrist is to woman\n",
      "programmer is to man as nutritionist is to woman\n",
      "professor is to man as researcher is to woman\n",
      "soldier is to man as gunman is to woman\n",
      "officer is to man as detainee is to woman\n",
      "janitor is to man as prostitute is to woman\n",
      "rockstar is to man as mojang is to woman\n",
      "\n",
      "Subtracting woman from female-dominated roles\n",
      "\n",
      "nurse is to woman as grampa is to man\n",
      "teacher is to woman as professor is to man\n",
      "homemaker is to woman as master is to man\n",
      "housewife is to woman as dweeb is to man\n",
      "midwife is to woman as grampa is to man\n",
      "secretary is to woman as chairman is to man\n",
      "maid is to woman as booty is to man\n",
      "dancer is to woman as getup is to man\n",
      "receptionist is to woman as mailman is to man\n",
      "artist is to woman as lyricist is to man\n"
     ]
    }
   ],
   "source": [
    "roles_men = [\"manager\", \"executive\", \"doctor\", \"lawyer\", \"programmer\", \"professor\", \"soldier\", \"officer\", \"janitor\", \"rockstar\"]\n",
    "roles_women = [\"nurse\", \"teacher\", \"homemaker\", \"housewife\", \"midwife\", \"secretary\", \"maid\", \"dancer\", \"receptionist\", \"artist\"]\n",
    "print(\"Finding analogies with respect to model 2:\")\n",
    "print(\"\\nSubtracting man from male-dominated roles\\n\")\n",
    "for rm in roles_men:\n",
    "    print(rm, \"is to man as\",model2.most_similar_cosmul(positive=[rm,'woman'], negative=['man'])[0][0],\"is to woman\")\n",
    "    \n",
    "print(\"\\nSubtracting woman from female-dominated roles\\n\")\n",
    "for rw in roles_women:\n",
    "    print(rw, \"is to woman as\",model2.most_similar_cosmul(positive=[rw,'man'], negative=['woman'])[0][0],\"is to man\")"
   ]
  },
  {
   "cell_type": "markdown",
   "metadata": {},
   "source": [
    "### Analogies with respect to Race (White, Black)"
   ]
  },
  {
   "cell_type": "code",
   "execution_count": 71,
   "metadata": {},
   "outputs": [
    {
     "name": "stdout",
     "output_type": "stream",
     "text": [
      "Finding analogies with respect to model 1:\n",
      "\n",
      "manager is to white as cisco is to black\n",
      "filthy is to white as thieving is to black\n",
      "kind is to white as sort is to black\n",
      "programmer is to white as coder is to black\n",
      "nurse is to white as chiropractor is to black\n",
      "housewife is to white as drunkard is to black\n",
      "rich is to white as wealthy is to black\n",
      "secretary is to white as chief is to black\n",
      "smart is to white as good is to black\n",
      "modern is to white as medieval is to black\n",
      "\n",
      "\n",
      "manager is to black as supervisor is to white\n",
      "filthy is to black as shitlords is to white\n",
      "kind is to black as sort is to white\n",
      "programmer is to black as coder is to white\n",
      "nurse is to black as teacher is to white\n",
      "housewife is to black as teenager is to white\n",
      "rich is to black as wealthy is to white\n",
      "secretary is to black as chairman is to white\n",
      "smart is to black as lazy is to white\n",
      "modern is to black as western is to white\n"
     ]
    }
   ],
   "source": [
    "roles = [\"manager\", \"filthy\", \"kind\", \"programmer\", \"nurse\", \"housewife\", \"rich\", \"secretary\", \"smart\", \"modern\"]\n",
    "print(\"Finding analogies with respect to model 1:\\n\")\n",
    "\n",
    "for role in roles:\n",
    "    print(role, \"is to white as\",model1.most_similar_cosmul(positive=[role,'black'], negative=['white'])[0][0],\"is to black\")\n",
    "    \n",
    "print(\"\\n\")\n",
    "\n",
    "for role in roles:\n",
    "    print(role, \"is to black as\",model1.most_similar_cosmul(positive=[role,'white'], negative=['black'])[0][0],\"is to white\")\n"
   ]
  },
  {
   "cell_type": "code",
   "execution_count": 72,
   "metadata": {},
   "outputs": [
    {
     "name": "stdout",
     "output_type": "stream",
     "text": [
      "Finding analogies with respect to model 2:\n",
      "\n",
      "manager is to white as cisco is to black\n",
      "filthy is to white as thieving is to black\n",
      "kind is to white as sort is to black\n",
      "programmer is to white as coder is to black\n",
      "nurse is to white as chiropractor is to black\n",
      "housewife is to white as drunkard is to black\n",
      "rich is to white as wealthy is to black\n",
      "secretary is to white as chief is to black\n",
      "smart is to white as good is to black\n",
      "modern is to white as medieval is to black\n",
      "\n",
      "\n",
      "manager is to black as supervisor is to white\n",
      "filthy is to black as elitists is to white\n",
      "kind is to black as sort is to white\n",
      "programmer is to black as coder is to white\n",
      "nurse is to black as teacher is to white\n",
      "housewife is to black as teenager is to white\n",
      "rich is to black as wealthy is to white\n",
      "secretary is to black as chairman is to white\n",
      "smart is to black as stubborn is to white\n",
      "modern is to black as western is to white\n"
     ]
    }
   ],
   "source": [
    "roles = [\"manager\", \"filthy\", \"kind\", \"programmer\", \"nurse\", \"housewife\", \"rich\", \"secretary\", \"smart\", \"modern\"]\n",
    "print(\"Finding analogies with respect to model 2:\\n\")\n",
    "\n",
    "for role in roles:\n",
    "    print(role, \"is to white as\",model2.most_similar_cosmul(positive=[role,'black'], negative=['white'])[0][0],\"is to black\")\n",
    "    \n",
    "print(\"\\n\")\n",
    "\n",
    "for role in roles:\n",
    "    print(role, \"is to black as\",model2.most_similar_cosmul(positive=[role,'white'], negative=['black'])[0][0],\"is to white\")\n"
   ]
  },
  {
   "cell_type": "markdown",
   "metadata": {},
   "source": [
    "### Analogies with respect to Race (American, Indian)"
   ]
  },
  {
   "cell_type": "code",
   "execution_count": 69,
   "metadata": {},
   "outputs": [
    {
     "name": "stdout",
     "output_type": "stream",
     "text": [
      "Finding analogies with respect to model 1:\n",
      "\n",
      "manager is to Indian as administrator is to American\n",
      "filthy is to Indian as libruls is to American\n",
      "kind is to Indian as sort is to American\n",
      "programmer is to Indian as developer is to American\n",
      "nurse is to Indian as motorist is to American\n",
      "housewife is to Indian as buffoon is to American\n",
      "rich is to Indian as greedy is to American\n",
      "secretary is to Indian as superdelegate is to American\n",
      "smart is to Indian as dishonest is to American\n",
      "modern is to Indian as global is to American\n",
      "\n",
      "\n",
      "manager is to American as barber is to Indian\n",
      "filthy is to American as stuffed is to Indian\n",
      "kind is to American as sort is to Indian\n",
      "programmer is to American as chemist is to Indian\n",
      "nurse is to American as massage is to Indian\n",
      "housewife is to American as maid is to Indian\n",
      "rich is to American as homeless is to Indian\n",
      "secretary is to American as deputy is to Indian\n",
      "smart is to American as nice is to Indian\n",
      "modern is to American as medieval is to Indian\n"
     ]
    }
   ],
   "source": [
    "roles = [\"manager\", \"filthy\", \"kind\", \"programmer\", \"nurse\", \"housewife\", \"rich\", \"secretary\", \"smart\", \"modern\"]\n",
    "print(\"Finding analogies with respect to model 1:\\n\")\n",
    "\n",
    "for role in roles:\n",
    "    print(role, \"is to Indian as\",model1.most_similar_cosmul(positive=[role,'american'], negative=['indian'])[0][0],\"is to American\")\n",
    "    \n",
    "print(\"\\n\")\n",
    "\n",
    "for role in roles:\n",
    "    print(role, \"is to American as\",model1.most_similar_cosmul(positive=[role,'indian'], negative=['american'])[0][0],\"is to Indian\")\n"
   ]
  },
  {
   "cell_type": "code",
   "execution_count": 68,
   "metadata": {},
   "outputs": [
    {
     "name": "stdout",
     "output_type": "stream",
     "text": [
      "Finding analogies with respect to model 2:\n",
      "\n",
      "manager is to Indian as administrator is to American\n",
      "filthy is to Indian as greedy is to American\n",
      "kind is to Indian as sort is to American\n",
      "programmer is to Indian as coder is to American\n",
      "nurse is to Indian as physician is to American\n",
      "housewife is to Indian as manchild is to American\n",
      "rich is to Indian as greedy is to American\n",
      "secretary is to Indian as superdelegate is to American\n",
      "smart is to Indian as incompetent is to American\n",
      "modern is to Indian as global is to American\n",
      "\n",
      "\n",
      "manager is to American as barber is to Indian\n",
      "filthy is to American as caged is to Indian\n",
      "kind is to American as sort is to Indian\n",
      "programmer is to American as chemist is to Indian\n",
      "nurse is to American as massage is to Indian\n",
      "housewife is to American as maid is to Indian\n",
      "rich is to American as homeless is to Indian\n",
      "secretary is to American as deputy is to Indian\n",
      "smart is to American as nice is to Indian\n",
      "modern is to American as medieval is to Indian\n"
     ]
    }
   ],
   "source": [
    "roles = [\"manager\", \"filthy\", \"kind\", \"programmer\", \"nurse\", \"housewife\", \"rich\", \"secretary\", \"smart\", \"modern\"]\n",
    "print(\"Finding analogies with respect to model 2:\\n\")\n",
    "\n",
    "for role in roles:\n",
    "    print(role, \"is to Indian as\",model2.most_similar_cosmul(positive=[role,'american'], negative=['indian'])[0][0],\"is to American\")\n",
    "    \n",
    "print(\"\\n\")\n",
    "\n",
    "for role in roles:\n",
    "    print(role, \"is to American as\",model2.most_similar_cosmul(positive=[role,'indian'], negative=['american'])[0][0],\"is to Indian\")\n"
   ]
  },
  {
   "cell_type": "markdown",
   "metadata": {},
   "source": [
    "### Analogies with respect to Religion (Christian, Muslim)"
   ]
  },
  {
   "cell_type": "code",
   "execution_count": 62,
   "metadata": {},
   "outputs": [
    {
     "name": "stdout",
     "output_type": "stream",
     "text": [
      "Finding analogies with respect to model 1:\n",
      "\n",
      "manager is to Christian as dealer is to Muslim\n",
      "filthy is to Christian as thieving is to Muslim\n",
      "kind is to Christian as sort is to Muslim\n",
      "programmer is to Christian as lyft is to Muslim\n",
      "nurse is to Christian as flu is to Muslim\n",
      "housewife is to Christian as prostitute is to Muslim\n",
      "rich is to Christian as homeless is to Muslim\n",
      "secretary is to Christian as joint is to Muslim\n",
      "smart is to Christian as desperate is to Muslim\n",
      "modern is to Christian as europes is to Muslim\n",
      "\n",
      "\n",
      "manager is to Muslim as resume is to Christian\n",
      "filthy is to Muslim as trve is to Christian\n",
      "kind is to Muslim as description is to Christian\n",
      "programmer is to Muslim as coder is to Christian\n",
      "nurse is to Muslim as hairdresser is to Christian\n",
      "housewife is to Muslim as musician is to Christian\n",
      "rich is to Muslim as wealthy is to Christian\n",
      "secretary is to Muslim as director is to Christian\n",
      "smart is to Muslim as handsome is to Christian\n",
      "modern is to Muslim as literary is to Christian\n"
     ]
    }
   ],
   "source": [
    "roles = [\"manager\", \"filthy\", \"kind\", \"programmer\", \"nurse\", \"housewife\", \"rich\", \"secretary\", \"smart\", \"modern\"]\n",
    "print(\"Finding analogies with respect to model 1:\\n\")\n",
    "\n",
    "for role in roles:\n",
    "    print(role, \"is to Christian as\",model1.most_similar_cosmul(positive=[role,'muslim'], negative=['christian'])[0][0],\"is to Muslim\")\n",
    "    \n",
    "print(\"\\n\")\n",
    "\n",
    "for role in roles:\n",
    "    print(role, \"is to Muslim as\",model1.most_similar_cosmul(positive=[role,'christian'], negative=['muslim'])[0][0],\"is to Christian\")\n"
   ]
  },
  {
   "cell_type": "code",
   "execution_count": 67,
   "metadata": {},
   "outputs": [
    {
     "name": "stdout",
     "output_type": "stream",
     "text": [
      "Finding analogies with respect to model 2:\n",
      "\n",
      "manager is to Christian as dealer is to Muslim\n",
      "filthy is to Christian as pigs is to Muslim\n",
      "kind is to Christian as sort is to Muslim\n",
      "programmer is to Christian as lyft is to Muslim\n",
      "nurse is to Christian as cab is to Muslim\n",
      "housewife is to Christian as prostitute is to Muslim\n",
      "rich is to Christian as homeless is to Muslim\n",
      "secretary is to Christian as joint is to Muslim\n",
      "smart is to Christian as desperate is to Muslim\n",
      "modern is to Christian as industrialized is to Muslim\n",
      "\n",
      "\n",
      "manager is to Muslim as prof is to Christian\n",
      "filthy is to Muslim as trve is to Christian\n",
      "kind is to Muslim as sort is to Christian\n",
      "programmer is to Muslim as coder is to Christian\n",
      "nurse is to Muslim as prof is to Christian\n",
      "housewife is to Muslim as musician is to Christian\n",
      "rich is to Muslim as wealthy is to Christian\n",
      "secretary is to Muslim as director is to Christian\n",
      "smart is to Muslim as personable is to Christian\n",
      "modern is to Muslim as classical is to Christian\n"
     ]
    }
   ],
   "source": [
    "roles = [\"manager\", \"filthy\", \"kind\", \"programmer\", \"nurse\", \"housewife\", \"rich\", \"secretary\", \"smart\", \"modern\"]\n",
    "print(\"Finding analogies with respect to model 2:\\n\")\n",
    "\n",
    "for role in roles:\n",
    "    print(role, \"is to Christian as\",model2.most_similar_cosmul(positive=[role,'muslim'], negative=['christian'])[0][0],\"is to Muslim\")\n",
    "    \n",
    "print(\"\\n\")\n",
    "\n",
    "for role in roles:\n",
    "    print(role, \"is to Muslim as\",model2.most_similar_cosmul(positive=[role,'christian'], negative=['muslim'])[0][0],\"is to Christian\")\n"
   ]
  },
  {
   "cell_type": "markdown",
   "metadata": {},
   "source": [
    "### Analogies with respect to Religion (Christian, Jew)"
   ]
  },
  {
   "cell_type": "code",
   "execution_count": 64,
   "metadata": {},
   "outputs": [
    {
     "name": "stdout",
     "output_type": "stream",
     "text": [
      "Finding analogies with respect to model 1:\n",
      "\n",
      "manager is to Christian as cashier is to Jew\n",
      "filthy is to Christian as pussy is to Jew\n",
      "kind is to Christian as whiff is to Jew\n",
      "programmer is to Christian as coder is to Jew\n",
      "nurse is to Christian as cashier is to Jew\n",
      "housewife is to Christian as hooker is to Jew\n",
      "rich is to Christian as farmer is to Jew\n",
      "secretary is to Christian as owner is to Jew\n",
      "smart is to Christian as cheapskate is to Jew\n",
      "modern is to Christian as diesel is to Jew\n",
      "\n",
      "\n",
      "manager is to Jew as infosec is to Jew\n",
      "filthy is to Jew as unwashed is to Jew\n",
      "kind is to Jew as sort is to Jew\n",
      "programmer is to Jew as technical is to Jew\n",
      "nurse is to Jew as missionary is to Jew\n",
      "housewife is to Jew as sexless is to Jew\n",
      "rich is to Jew as wealthy is to Jew\n",
      "secretary is to Jew as legislative is to Jew\n",
      "smart is to Jew as savvy is to Jew\n",
      "modern is to Jew as todays is to Jew\n"
     ]
    }
   ],
   "source": [
    "roles = [\"manager\", \"filthy\", \"kind\", \"programmer\", \"nurse\", \"housewife\", \"rich\", \"secretary\", \"smart\", \"modern\"]\n",
    "print(\"Finding analogies with respect to model 1:\\n\")\n",
    "\n",
    "for role in roles:\n",
    "    print(role, \"is to Christian as\",model1.most_similar_cosmul(positive=[role,'jew'], negative=['christian'])[0][0],\"is to Jew\")\n",
    "    \n",
    "print(\"\\n\")\n",
    "\n",
    "for role in roles:\n",
    "    print(role, \"is to Jew as\",model1.most_similar_cosmul(positive=[role,'christian'], negative=['jew'])[0][0],\"is to Jew\")\n"
   ]
  },
  {
   "cell_type": "code",
   "execution_count": 66,
   "metadata": {},
   "outputs": [
    {
     "name": "stdout",
     "output_type": "stream",
     "text": [
      "Finding analogies with respect to model 2:\n",
      "\n",
      "manager is to Christian as driver is to Jew\n",
      "filthy is to Christian as pussy is to Jew\n",
      "kind is to Christian as whiff is to Jew\n",
      "programmer is to Christian as plumber is to Jew\n",
      "nurse is to Christian as chiropractor is to Jew\n",
      "housewife is to Christian as crackhead is to Jew\n",
      "rich is to Christian as farmer is to Jew\n",
      "secretary is to Christian as owner is to Jew\n",
      "smart is to Christian as cheapskate is to Jew\n",
      "modern is to Christian as diesel is to Jew\n",
      "\n",
      "\n",
      "manager is to Jew as departmental is to Christian\n",
      "filthy is to Jew as superstitious is to Christian\n",
      "kind is to Jew as sort is to Christian\n",
      "programmer is to Jew as technical is to Christian\n",
      "nurse is to Jew as missionary is to Christian\n",
      "housewife is to Jew as chaste is to Christian\n",
      "rich is to Jew as wealthy is to Christian\n",
      "secretary is to Jew as legislative is to Christian\n",
      "smart is to Jew as fickle is to Christian\n",
      "modern is to Jew as todays is to Christian\n"
     ]
    }
   ],
   "source": [
    "roles = [\"manager\", \"filthy\", \"kind\", \"programmer\", \"nurse\", \"housewife\", \"rich\", \"secretary\", \"smart\", \"modern\"]\n",
    "print(\"Finding analogies with respect to model 2:\\n\")\n",
    "\n",
    "for role in roles:\n",
    "    print(role, \"is to Christian as\",model2.most_similar_cosmul(positive=[role,'jew'], negative=['christian'])[0][0],\"is to Jew\")\n",
    "    \n",
    "print(\"\\n\")\n",
    "\n",
    "for role in roles:\n",
    "    print(role, \"is to Jew as\",model2.most_similar_cosmul(positive=[role,'christian'], negative=['jew'])[0][0],\"is to Christian\")\n"
   ]
  },
  {
   "cell_type": "markdown",
   "metadata": {},
   "source": [
    "## Finding most biased words (Gender)\n",
    "#### (using projection on the gender subspace: {man-woman})"
   ]
  },
  {
   "cell_type": "code",
   "execution_count": 122,
   "metadata": {},
   "outputs": [
    {
     "name": "stdout",
     "output_type": "stream",
     "text": [
      "\n",
      "Bias in Professions in Model - decending order (top 10) (man-woman)\n",
      "\n",
      "('magician', 0.11574505)\n",
      "('carpenter', 0.046477903)\n",
      "('butcher', 0.035740647)\n",
      "('gamer', 0.027397368)\n",
      "('soldier', 0.018920997)\n",
      "('servant', 0.00930707)\n",
      "('barber', 0.007335724)\n",
      "('engineer', -0.0022402927)\n",
      "('player', -0.01447518)\n",
      "('programmer', -0.016492786)\n",
      "\n",
      "Bias in Misc. words in Model - descending order (top 10) (man-woman)\n",
      "\n",
      "('swear', 0.21706516)\n",
      "('filthy', 0.20151067)\n",
      "('sweet', 0.19195326)\n",
      "('roar', 0.18197575)\n",
      "('weep', 0.18006238)\n",
      "('pretty', 0.17052722)\n",
      "('beautiful', 0.15033276)\n",
      "('think', 0.14811862)\n",
      "('brave', 0.14424863)\n",
      "('savage', 0.14332578)\n"
     ]
    }
   ],
   "source": [
    "vocabp = []\n",
    "vocabm = []\n",
    "\n",
    "professions = []\n",
    "misc_words = []\n",
    "with open('./professions.txt' ,'r') as fl:\n",
    "    for word in fl:\n",
    "        professions.append(word[:-1])    \n",
    "\n",
    "with open('./misc_words.txt' ,'r') as fl:\n",
    "    for word in fl:\n",
    "        misc_words.append(word[:-1])\n",
    "\n",
    "for word in professions:\n",
    "    vocabp.append((word,model1[word]/npy.linalg.norm(model1[word])))\n",
    "    \n",
    "for word in misc_words:\n",
    "    vocabm.append((word,model1[word]/npy.linalg.norm(model1[word])))\n",
    "    \n",
    "    \n",
    "projectionp = []\n",
    "projectionm = []\n",
    "\n",
    "\n",
    "man = model1['man'] / npy.linalg.norm(model1['man'])\n",
    "woman = model1['woman'] / npy.linalg.norm(model1['woman'])\n",
    "\n",
    "gender_subspc = (man - woman)\n",
    "\n",
    "for word in vocabp:\n",
    "    pro = npy.dot(model1[word[0]] / npy.linalg.norm(model1[word[0]]),gender_subspc)\n",
    "    projectionp.append((word[0],pro))\n",
    "    \n",
    "for word in vocabm:\n",
    "    pro = npy.dot(model1[word[0]] / npy.linalg.norm(model1[word[0]]),gender_subspc)\n",
    "    projectionm.append((word[0],pro))\n",
    "    \n",
    "    \n",
    "biasedp = sorted(projectionp, reverse = True, key = lambda x : x[1])\n",
    "biasedm = sorted(projectionm, reverse = True, key = lambda x : x[1])\n",
    "\n",
    "\n",
    "\n",
    "\n",
    "print(\"\\nBias in Professions in Model - decending order (top 10) (man-woman)\\n\")\n",
    "ten_bias = biasedp[0:10]\n",
    "for bias in ten_bias:\n",
    "    print(bias)\n",
    "    \n",
    "print(\"\\nBias in Misc. words in Model - descending order (top 10) (man-woman)\\n\")\n",
    "ten_bias = biasedm[0:10]\n",
    "for bias in ten_bias:\n",
    "    print(bias)\n"
   ]
  },
  {
   "cell_type": "markdown",
   "metadata": {},
   "source": [
    "### Plotting cluster of biased words (Gender)"
   ]
  },
  {
   "cell_type": "code",
   "execution_count": 106,
   "metadata": {},
   "outputs": [
    {
     "data": {
      "image/png": "[encoded data removed]",
      "text/plain": [
       "<Figure size 1080x720 with 1 Axes>"
      ]
     },
     "metadata": {
      "needs_background": "light"
     },
     "output_type": "display_data"
    }
   ],
   "source": [
    "import matplotlib.pyplot as plt\n",
    "from random import shuffle\n",
    "\n",
    "fig, ax = plt.subplots(figsize=[15,10])\n",
    "\n",
    "x_axis = []\n",
    "y_axis = []\n",
    "\n",
    "shuffled_list = professions\n",
    "shuffle(shuffled_list)\n",
    "\n",
    "for word in shuffled_list:\n",
    "    words = model1[word]\n",
    "    words = sorted(words, reverse=True)[0:2]\n",
    "    x_axis.append(words[1])\n",
    "    y_axis.append(words[0])\n",
    "        \n",
    "grph = ax.scatter(x_axis, y_axis, s=100, alpha=0.7, edgecolors='black')\n",
    "\n",
    "i = 0\n",
    "for txt in shuffled_list:\n",
    "    if(i%2==0):\n",
    "        ax.annotate(str(txt),(x_axis[i],y_axis[i]))\n",
    "    i+=1\n",
    "    \n",
    "ax.grid(True)\n",
    "\n",
    "\n",
    "\n",
    "plt.show()\n",
    "    \n"
   ]
  },
  {
   "cell_type": "code",
   "execution_count": 103,
   "metadata": {},
   "outputs": [
    {
     "data": {
      "image/png": "[encoded data removed]",
      "text/plain": [
       "<Figure size 1080x720 with 1 Axes>"
      ]
     },
     "metadata": {
      "needs_background": "light"
     },
     "output_type": "display_data"
    }
   ],
   "source": [
    "import matplotlib.pyplot as plt\n",
    "from random import shuffle\n",
    "\n",
    "fig, ax = plt.subplots(figsize=[15,10])\n",
    "\n",
    "x_axis = []\n",
    "y_axis = []\n",
    "\n",
    "shuffled_list = misc_words\n",
    "shuffle(shuffled_list)\n",
    "\n",
    "for word in shuffled_list:\n",
    "    words = model1[word]\n",
    "    words = sorted(words, reverse=True)[0:2]\n",
    "    x_axis.append(words[1])\n",
    "    y_axis.append(words[0])\n",
    "        \n",
    "grph = ax.scatter(x_axis, y_axis, s = 100, alpha=0.7, edgecolors='black')\n",
    "i = 0\n",
    "for txt in shuffled_list:\n",
    "    if(i%4==0):\n",
    "        ax.annotate(str(txt),(x_axis[i],y_axis[i]))\n",
    "    i+=1\n",
    "    \n",
    "ax.grid(True)\n",
    "\n",
    "\n",
    "\n",
    "plt.show()\n",
    "    \n"
   ]
  },
  {
   "cell_type": "markdown",
   "metadata": {},
   "source": [
    "### Finding most biased words (Race)"
   ]
  },
  {
   "cell_type": "code",
   "execution_count": 120,
   "metadata": {},
   "outputs": [
    {
     "name": "stdout",
     "output_type": "stream",
     "text": [
      "\n",
      "Bias in Professions in Model - decending order (top 10) (indian-american)\n",
      "\n",
      "('butcher', 0.30157873)\n",
      "('barber', 0.20129806)\n",
      "('florist', 0.18413721)\n",
      "('nurse', 0.15209064)\n",
      "('vet', 0.14899719)\n",
      "('cashier', 0.1279751)\n",
      "('tutor', 0.12523493)\n",
      "('waiter', 0.11155586)\n",
      "('chemist', 0.108406395)\n",
      "('shopkeeper', 0.105821185)\n",
      "\n",
      "Bias in Misc. words in Model - descending order (top 10) (indian-american)\n",
      "\n",
      "('lovely', 0.2813881)\n",
      "('backpack', 0.25974354)\n",
      "('bag', 0.20628145)\n",
      "('cute', 0.19745344)\n",
      "('purse', 0.19460957)\n",
      "('sweet', 0.18077426)\n",
      "('beautiful', 0.1678942)\n",
      "('grumpy', 0.14973086)\n",
      "('cool', 0.14963488)\n",
      "('sassy', 0.14638355)\n"
     ]
    }
   ],
   "source": [
    "vocabp = []\n",
    "vocabm = []\n",
    "\n",
    "professions = []\n",
    "misc_words = []\n",
    "with open('./professions.txt' ,'r') as fl:\n",
    "    for word in fl:\n",
    "        professions.append(word[:-1])    \n",
    "\n",
    "with open('./misc_words.txt' ,'r') as fl:\n",
    "    for word in fl:\n",
    "        misc_words.append(word[:-1])\n",
    "\n",
    "for word in professions:\n",
    "    vocabp.append((word,model1[word]/npy.linalg.norm(model1[word])))\n",
    "    \n",
    "for word in misc_words:\n",
    "    vocabm.append((word,model1[word]/npy.linalg.norm(model1[word])))\n",
    "    \n",
    "    \n",
    "projectionp = []\n",
    "projectionm = []\n",
    "\n",
    "\n",
    "american = model1['american'] / npy.linalg.norm(model1['american'])\n",
    "indian = model1['indian'] / npy.linalg.norm(model1['indian'])\n",
    "\n",
    "race_subspc = (indian - american)\n",
    "\n",
    "for word in vocabp:\n",
    "    pro = npy.dot(model1[word[0]] / npy.linalg.norm(model1[word[0]]),race_subspc)\n",
    "    projectionp.append((word[0],pro))\n",
    "    \n",
    "for word in vocabm:\n",
    "    pro = npy.dot(model1[word[0]] / npy.linalg.norm(model1[word[0]]),race_subspc)\n",
    "    projectionm.append((word[0],pro))\n",
    "    \n",
    "    \n",
    "biasedp = sorted(projectionp, reverse = True, key = lambda x : x[1])\n",
    "biasedm = sorted(projectionm, reverse = True, key = lambda x : x[1])\n",
    "\n",
    "\n",
    "\n",
    "\n",
    "print(\"\\nBias in Professions in Model - decending order (top 10) (indian-american)\\n\")\n",
    "ten_bias = biasedp[0:10]\n",
    "for bias in ten_bias:\n",
    "    print(bias)\n",
    "    \n",
    "print(\"\\nBias in Misc. words in Model - descending order (top 10) (indian-american)\\n\")\n",
    "ten_bias = biasedm[0:10]\n",
    "for bias in ten_bias:\n",
    "    print(bias)\n"
   ]
  },
  {
   "cell_type": "markdown",
   "metadata": {},
   "source": [
    "### Finding most biased words (Religion)"
   ]
  },
  {
   "cell_type": "code",
   "execution_count": 118,
   "metadata": {},
   "outputs": [
    {
     "name": "stdout",
     "output_type": "stream",
     "text": [
      "\n",
      "Bias in Professions in Model - decending order (top 10) (muslim-christian)\n",
      "\n",
      "('vet', 0.12283135)\n",
      "('cop', 0.11075719)\n",
      "('soldier', 0.076730676)\n",
      "('shopkeeper', 0.060545065)\n",
      "('worker', 0.018872034)\n",
      "('cashier', 0.016069816)\n",
      "('butcher', -0.005377178)\n",
      "('landlord', -0.00816943)\n",
      "('nurse', -0.010036133)\n",
      "('nanny', -0.011244484)\n",
      "\n",
      "Bias in Misc. words in Model - descending order (top 10) (muslim-christian)\n",
      "\n",
      "('terrorist', 0.2741907)\n",
      "('car', 0.10418006)\n",
      "('fear', 0.10198632)\n",
      "('bag', 0.07560906)\n",
      "('creep', 0.06417281)\n",
      "('brute', 0.057166893)\n",
      "('yell', 0.041089058)\n",
      "('poor', 0.04030589)\n",
      "('roar', 0.039248332)\n",
      "('mad', 0.038921878)\n"
     ]
    }
   ],
   "source": [
    "vocabp = []\n",
    "vocabm = []\n",
    "\n",
    "professions = []\n",
    "misc_words = []\n",
    "with open('./professions.txt' ,'r') as fl:\n",
    "    for word in fl:\n",
    "        professions.append(word[:-1])    \n",
    "\n",
    "with open('./misc_words.txt' ,'r') as fl:\n",
    "    for word in fl:\n",
    "        misc_words.append(word[:-1])\n",
    "\n",
    "for word in professions:\n",
    "    vocabp.append((word,model1[word]/npy.linalg.norm(model1[word])))\n",
    "    \n",
    "for word in misc_words:\n",
    "    vocabm.append((word,model1[word]/npy.linalg.norm(model1[word])))\n",
    "    \n",
    "    \n",
    "projectionp = []\n",
    "projectionm = []\n",
    "\n",
    "\n",
    "christian = model1['christian'] / npy.linalg.norm(model1['christian'])\n",
    "muslim = model1['muslim'] / npy.linalg.norm(model1['muslim'])\n",
    "\n",
    "religion_subspc = (muslim - christian)\n",
    "\n",
    "for word in vocabp:\n",
    "    pro = npy.dot(model1[word[0]] / npy.linalg.norm(model1[word[0]]),religion_subspc)\n",
    "    projectionp.append((word[0],pro))\n",
    "    \n",
    "for word in vocabm:\n",
    "    pro = npy.dot(model1[word[0]] / npy.linalg.norm(model1[word[0]]),religion_subspc)\n",
    "    projectionm.append((word[0],pro))\n",
    "    \n",
    "    \n",
    "biasedp = sorted(projectionp, reverse = True, key = lambda x : x[1])\n",
    "biasedm = sorted(projectionm, reverse = True, key = lambda x : x[1])\n",
    "\n",
    "\n",
    "\n",
    "\n",
    "print(\"\\nBias in Professions in Model - decending order (top 10) (muslim-christian)\\n\")\n",
    "ten_bias = biasedp[0:10]\n",
    "for bias in ten_bias:\n",
    "    print(bias)\n",
    "    \n",
    "print(\"\\nBias in Misc. words in Model - descending order (top 10) (muslim-christian)\\n\")\n",
    "ten_bias = biasedm[0:10]\n",
    "for bias in ten_bias:\n",
    "    print(bias)\n"
   ]
  },
  {
   "cell_type": "markdown",
   "metadata": {},
   "source": [
    "## Debiasing the model"
   ]
  },
  {
   "cell_type": "code",
   "execution_count": 166,
   "metadata": {},
   "outputs": [
    {
     "name": "stdout",
     "output_type": "stream",
     "text": [
      "\n",
      "Bias in Professions in Model - decending order (top 10) (man-woman)\n",
      "\n",
      "('magician', 0.11574504) ==> ('magician', 0.11456225)\n",
      "('carpenter', 0.046477906) ==> ('carpenter', 0.045484226)\n",
      "('butcher', 0.035740644) ==> ('butcher', 0.035707153)\n",
      "('gamer', 0.027397364) ==> ('gamer', 0.026887717)\n",
      "('soldier', 0.018920997) ==> ('soldier', 0.019234942)\n",
      "('servant', 0.009307076) ==> ('servant', 0.008474963)\n",
      "('barber', 0.0073357197) ==> ('barber', 0.006497547)\n",
      "('engineer', -0.0022402948) ==> ('engineer', -0.0024358318)\n",
      "('player', -0.014475175) ==> ('player', -0.014581879)\n",
      "('programmer', -0.01649278) ==> ('programmer', -0.017327033)\n",
      "\n",
      "Bias in Misc. words in Model - descending order (top 10) (man-woman)\n",
      "\n",
      "('swear', 0.21706519) ==> ('swear', 0.21250035)\n",
      "('filthy', 0.20151068) ==> ('filthy', 0.19604209)\n",
      "('sweet', 0.19195326) ==> ('sweet', 0.18784045)\n",
      "('roar', 0.18197575) ==> ('roar', 0.17574164)\n",
      "('weep', 0.18006237) ==> ('weep', 0.17289506)\n",
      "('pretty', 0.17052722) ==> ('pretty', 0.16845691)\n",
      "('beautiful', 0.15033276) ==> ('beautiful', 0.14696142)\n",
      "('think', 0.1481186) ==> ('think', 0.14597465)\n",
      "('brave', 0.14424863) ==> ('brave', 0.14036529)\n",
      "('savage', 0.14332578) ==> ('savage', 0.13797511)\n"
     ]
    }
   ],
   "source": [
    "vocabp = []\n",
    "vocabm = []\n",
    "\n",
    "professions = []\n",
    "misc_words = []\n",
    "with open('./professions.txt' ,'r') as fl:\n",
    "    for word in fl:\n",
    "        professions.append(word[:-1])    \n",
    "\n",
    "with open('./misc_words.txt' ,'r') as fl:\n",
    "    for word in fl:\n",
    "        misc_words.append(word[:-1])\n",
    "\n",
    "for word in professions:\n",
    "    vocabp.append((word,model1[word]/npy.linalg.norm(model1[word])))\n",
    "    \n",
    "for word in misc_words:\n",
    "    vocabm.append((word,model1[word]/npy.linalg.norm(model1[word])))\n",
    "    \n",
    "    \n",
    "projectionp = []\n",
    "projectionm = []\n",
    "hard_debiasp = []\n",
    "hard_debiasm = []\n",
    "\n",
    "debiased_professions = []\n",
    "debiased_misc_words = []\n",
    "\n",
    "\n",
    "man = model1['man'] / npy.linalg.norm(model1['man'])\n",
    "woman = model1['woman'] / npy.linalg.norm(model1['woman'])\n",
    "indian = model1['indian'] / npy.linalg.norm(model1['indian'])\n",
    "indian = model1['american'] / npy.linalg.norm(model1['american'])\n",
    "indian = model1['muslim'] / npy.linalg.norm(model1['muslim'])\n",
    "indian = model1['christian'] / npy.linalg.norm(model1['christian'])\n",
    "\n",
    "\n",
    "gender_subspc = (man - woman)\n",
    "race_subspc = (indian - american)\n",
    "religion_subspc = (muslim - christian)\n",
    "\n",
    "bias_subspc = npy.dot(gender_subspc,race_subspc)\n",
    "bias_subspc = npy.dot(bias_subspc,religion_subspc)\n",
    "\n",
    "\n",
    "for word in vocabp:\n",
    "    pro = ( npy.dot(model1[word[0]],gender_subspc) / npy.linalg.norm(model1[word[0]]) )\n",
    "    projectionp.append((word[0],pro))\n",
    "    pro = pro * gender_subspc\n",
    "    pro = (model1[word[0]] - pro) / npy.linalg.norm(model1[word[0]] - pro)\n",
    "    \n",
    "    pro = ( npy.dot(model1[word[0]],race_subspc) / npy.linalg.norm(model1[word[0]]) )\n",
    "    pro = pro * race_subspc\n",
    "    pro = (model1[word[0]] - pro) / npy.linalg.norm(model1[word[0]] - pro)\n",
    "    \n",
    "    pro = ( npy.dot(model1[word[0]],religion_subspc) / npy.linalg.norm(model1[word[0]]) )\n",
    "    pro = pro * religion_subspc\n",
    "    pro = (model1[word[0]] - pro) / npy.linalg.norm(model1[word[0]] - pro)\n",
    "    \n",
    "    debiased_professions.append((word[0],pro))\n",
    "    pro = npy.dot(pro, gender_subspc)\n",
    "    hard_debiasp.append((word[0],pro)) \n",
    "    \n",
    "for word in vocabm:\n",
    "    pro = ( npy.dot(model1[word[0]],gender_subspc) / npy.linalg.norm(model1[word[0]]) ) \n",
    "    projectionm.append((word[0],pro))\n",
    "    pro = pro * gender_subspc\n",
    "    pro = (model1[word[0]] - pro) / npy.linalg.norm(model1[word[0]] - pro)\n",
    "    debiased_misc_words.append((word[0],pro))\n",
    "    pro = npy.dot(pro, gender_subspc)\n",
    "    hard_debiasm.append((word[0],pro))\n",
    "    \n",
    "\n",
    "\n",
    "biasedp = sorted(projectionp, reverse = True, key = lambda x : x[1])\n",
    "biasedm = sorted(projectionm, reverse = True, key = lambda x : x[1])\n",
    "\n",
    "debiasedp = sorted(hard_debiasp, reverse = True, key = lambda x : x[1])\n",
    "debiasedm = sorted(hard_debiasm, reverse = True, key = lambda x : x[1])\n",
    "\n",
    "\n",
    "\n",
    "\n",
    "\n",
    "print(\"\\nBias in Professions in Model - decending order (top 10) (man-woman)\\n\")\n",
    "ten_bias = biasedp[0:10]\n",
    "ten_debias = debiasedp[0:10]\n",
    "for bias, debias in zip(ten_bias, ten_debias):\n",
    "    print(bias,\"==>\",debias)\n",
    "    \n",
    "print(\"\\nBias in Misc. words in Model - descending order (top 10) (man-woman)\\n\")\n",
    "ten_bias = biasedm[0:10]\n",
    "ten_debias = debiasedm[0:10]\n",
    "for bias, debias in zip(ten_bias, ten_debias):\n",
    "    print(bias,\"==>\",debias)\n"
   ]
  },
  {
   "cell_type": "code",
   "execution_count": 167,
   "metadata": {},
   "outputs": [
    {
     "data": {
      "image/png": "[encoded data removed]",
      "text/plain": [
       "<Figure size 1080x720 with 1 Axes>"
      ]
     },
     "metadata": {
      "needs_background": "light"
     },
     "output_type": "display_data"
    }
   ],
   "source": [
    "import matplotlib.pyplot as plt\n",
    "from random import shuffle\n",
    "\n",
    "fig, ax = plt.subplots(figsize=[15,10])\n",
    "\n",
    "x_axis = []\n",
    "y_axis = []\n",
    "\n",
    "shuffled_list = debiased_professions\n",
    "shuffle(shuffled_list)\n",
    "\n",
    "for word in shuffled_list:\n",
    "    words = model1[word[0]]\n",
    "    words = sorted(words, reverse=True)[0:2]\n",
    "    x_axis.append(words[1])\n",
    "    y_axis.append(words[0])\n",
    "        \n",
    "grph = ax.scatter(x_axis, y_axis, s=100, alpha=0.7, edgecolors='black')\n",
    "\n",
    "i = 0\n",
    "for txt in shuffled_list:\n",
    "    if(i%2==0):\n",
    "        ax.annotate(str(txt[0]),(x_axis[i],y_axis[i]))\n",
    "    i+=1\n",
    "    \n",
    "ax.grid(True)\n",
    "\n",
    "\n",
    "\n",
    "plt.show()\n",
    "    \n"
   ]
  },
  {
   "cell_type": "code",
   "execution_count": 168,
   "metadata": {},
   "outputs": [
    {
     "data": {
      "image/png": "[encoded data removed]",
      "text/plain": [
       "<Figure size 1080x720 with 1 Axes>"
      ]
     },
     "metadata": {
      "needs_background": "light"
     },
     "output_type": "display_data"
    }
   ],
   "source": [
    "import matplotlib.pyplot as plt\n",
    "from random import shuffle\n",
    "\n",
    "fig, ax = plt.subplots(figsize=[15,10])\n",
    "\n",
    "x_axis = []\n",
    "y_axis = []\n",
    "\n",
    "shuffled_list = debiased_misc_words\n",
    "shuffle(shuffled_list)\n",
    "\n",
    "for word in shuffled_list:\n",
    "    words = model1[word[0]]\n",
    "    words = sorted(words, reverse=True)[0:2]\n",
    "    x_axis.append(words[1])\n",
    "    y_axis.append(words[0])\n",
    "        \n",
    "grph = ax.scatter(x_axis, y_axis, s=100, alpha=0.7, edgecolors='black')\n",
    "\n",
    "i = 0\n",
    "for txt in shuffled_list:\n",
    "    if(i%2==0):\n",
    "        ax.annotate(str(txt[0]),(x_axis[i],y_axis[i]))\n",
    "    i+=1\n",
    "    \n",
    "ax.grid(True)\n",
    "\n",
    "\n",
    "\n",
    "plt.show()\n",
    "    \n"
   ]
  }
 ],
 "metadata": {
  "kernelspec": {
   "display_name": "Python 3",
   "language": "python",
   "name": "python3"
  },
  "language_info": {
   "codemirror_mode": {
    "name": "ipython",
    "version": 3
   },
   "file_extension": ".py",
   "mimetype": "text/x-python",
   "name": "python",
   "nbconvert_exporter": "python",
   "pygments_lexer": "ipython3",
   "version": "3.7.4"
  }
 },
 "nbformat": 4,
 "nbformat_minor": 4
}
